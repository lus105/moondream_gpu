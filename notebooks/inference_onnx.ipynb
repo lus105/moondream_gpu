{
 "cells": [
  {
   "cell_type": "code",
   "execution_count": null,
   "id": "d2627e03",
   "metadata": {},
   "outputs": [],
   "source": [
    "import os\n",
    "import rootutils\n",
    "from PIL import Image\n",
    "import torch\n",
    "\n",
    "rootutils.setup_root(\n",
    "    os.path.abspath(''), indicator=['.git', 'pyproject.toml'], pythonpath=True\n",
    ")\n",
    "\n",
    "from clients.python.moondream.onnx_vl import OnnxVL"
   ]
  },
  {
   "cell_type": "code",
   "execution_count": null,
   "id": "6862ffed",
   "metadata": {},
   "outputs": [],
   "source": [
    "# make sure model is downloaded\n",
    "model_path = \"../models/moondream-2b-int8.mf\"\n",
    "model = OnnxVL.from_path(model_path)"
   ]
  },
  {
   "cell_type": "code",
   "execution_count": null,
   "id": "c606c440",
   "metadata": {},
   "outputs": [],
   "source": [
    "image = Image.open(\"../assets/demo-1.jpg\")\n",
    " \n",
    "print(\"Detailed caption:\")\n",
    "for t in model.caption(image, length=\"normal\", stream=True)[\"caption\"]:\n",
    "    print(t, end=\"\", flush=True)"
   ]
  }
 ],
 "metadata": {
  "kernelspec": {
   "display_name": "moondream_gpu",
   "language": "python",
   "name": "python3"
  },
  "language_info": {
   "codemirror_mode": {
    "name": "ipython",
    "version": 3
   },
   "file_extension": ".py",
   "mimetype": "text/x-python",
   "name": "python",
   "nbconvert_exporter": "python",
   "pygments_lexer": "ipython3",
   "version": "3.11.11"
  }
 },
 "nbformat": 4,
 "nbformat_minor": 5
}
