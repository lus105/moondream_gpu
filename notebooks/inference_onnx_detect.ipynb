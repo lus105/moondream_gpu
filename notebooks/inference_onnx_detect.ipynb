{
 "cells": [
  {
   "cell_type": "code",
   "execution_count": null,
   "id": "d7cf7b97",
   "metadata": {},
   "outputs": [],
   "source": [
    "import os\n",
    "import rootutils\n",
    "from PIL import Image, ImageDraw\n",
    "from matplotlib import pyplot as plt\n",
    "import torch\n",
    "\n",
    "rootutils.setup_root(\n",
    "    os.path.abspath(''), indicator=['.git', 'pyproject.toml'], pythonpath=True\n",
    ")\n",
    "\n",
    "from clients.python.moondream.onnx_vl import OnnxVL"
   ]
  },
  {
   "cell_type": "code",
   "execution_count": null,
   "id": "1fce543d",
   "metadata": {},
   "outputs": [],
   "source": [
    "# make sure model is downloaded\n",
    "model_path = \"../models/moondream-2b-int8.mf\"\n",
    "model = OnnxVL.from_path(model_path)"
   ]
  },
  {
   "cell_type": "code",
   "execution_count": null,
   "id": "4891e70b",
   "metadata": {},
   "outputs": [],
   "source": [
    "image = Image.open(\"../assets/demo-1.jpg\")\n",
    " \n",
    "object = \"burger\"\n",
    "objects = model.detect(image, object)[\"objects\"]\n",
    "print(len(objects), \"detected\")\n",
    "\n",
    "# Draw rectangles for each detected object\n",
    "width, height = image.size\n",
    "draw = ImageDraw.Draw(image)\n",
    "for obj in objects:\n",
    "    x_min = int(obj[\"x_min\"] * width)\n",
    "    x_max = int(obj[\"x_max\"] * width)\n",
    "    y_min = int(obj[\"y_min\"] * height)\n",
    "    y_max = int(obj[\"y_max\"] * height)\n",
    "    draw.rectangle([(x_min, y_min), (x_max, y_max)], outline=\"green\", width=10)\n",
    "\n",
    "\n",
    "plt.imshow(image)\n",
    "plt.axis('off')\n",
    "plt.show()\n"
   ]
  },
  {
   "cell_type": "code",
   "execution_count": null,
   "id": "d6bf3453",
   "metadata": {},
   "outputs": [],
   "source": [
    "image = Image.open(\"../assets/demo-1.jpg\")\n",
    "\n",
    "object = \"burger\"\n",
    "points = model.point(image, object)[\"points\"]\n",
    "print(f\"Found {len(points)}\")\n",
    "\n",
    "pt_offset = 100\n",
    "draw = ImageDraw.Draw(image)\n",
    "for point in points:\n",
    "    x, y = point[\"x\"] * image.width, point[\"y\"] * image.height\n",
    "    draw.ellipse([x - pt_offset, y - pt_offset, x + pt_offset, y + pt_offset], outline=\"red\", width=5)\n",
    "\n",
    "plt.imshow(image)\n",
    "plt.axis('off')\n",
    "plt.show()"
   ]
  }
 ],
 "metadata": {
  "kernelspec": {
   "display_name": "moondream_gpu",
   "language": "python",
   "name": "python3"
  },
  "language_info": {
   "codemirror_mode": {
    "name": "ipython",
    "version": 3
   },
   "file_extension": ".py",
   "mimetype": "text/x-python",
   "name": "python",
   "nbconvert_exporter": "python",
   "pygments_lexer": "ipython3",
   "version": "3.11.11"
  }
 },
 "nbformat": 4,
 "nbformat_minor": 5
}
