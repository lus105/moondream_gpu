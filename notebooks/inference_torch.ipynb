{
 "cells": [
  {
   "cell_type": "code",
   "execution_count": null,
   "id": "7e6803a4",
   "metadata": {},
   "outputs": [],
   "source": [
    "import os\n",
    "import rootutils\n",
    "import torch\n",
    "from PIL import Image\n",
    "\n",
    "rootutils.setup_root(\n",
    "    os.path.abspath(''), indicator=['.git', 'pyproject.toml'], pythonpath=True\n",
    ")\n",
    "\n",
    "from moondream.torch.weights import load_weights_into_model\n",
    "from moondream.torch.moondream import MoondreamModel, MoondreamConfig"
   ]
  },
  {
   "cell_type": "code",
   "execution_count": null,
   "id": "8a5cb4c5",
   "metadata": {},
   "outputs": [],
   "source": [
    "device = \"cuda\" if torch.cuda.is_available() else \"cpu\"\n",
    "print(f\"Using device: {device}\")"
   ]
  },
  {
   "cell_type": "code",
   "execution_count": null,
   "id": "997dd93c",
   "metadata": {},
   "outputs": [],
   "source": [
    "# make sure model is downloaded\n",
    "model_path = \"../models/model.safetensors\"\n",
    "config = MoondreamConfig()\n",
    "model = MoondreamModel(config)\n",
    "load_weights_into_model(model_path, model)\n",
    "model.to(device)\n",
    "model.eval()"
   ]
  },
  {
   "cell_type": "code",
   "execution_count": null,
   "id": "aa533b65",
   "metadata": {},
   "outputs": [],
   "source": [
    "image = Image.open(\"../assets/demo-1.jpg\")\n",
    " \n",
    "print(\"Detailed caption:\")\n",
    "for t in model.caption(image, length=\"normal\", stream=True)[\"caption\"]:\n",
    "    print(t, end=\"\", flush=True)"
   ]
  }
 ],
 "metadata": {
  "kernelspec": {
   "display_name": "moondream_gpu",
   "language": "python",
   "name": "python3"
  },
  "language_info": {
   "codemirror_mode": {
    "name": "ipython",
    "version": 3
   },
   "file_extension": ".py",
   "mimetype": "text/x-python",
   "name": "python",
   "nbconvert_exporter": "python",
   "pygments_lexer": "ipython3",
   "version": "3.11.11"
  }
 },
 "nbformat": 4,
 "nbformat_minor": 5
}
